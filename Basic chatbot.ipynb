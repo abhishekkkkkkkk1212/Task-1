{
 "cells": [
  {
   "cell_type": "code",
   "execution_count": null,
   "id": "0fd43e2a-fa55-49a6-b31a-bda4dc5e01c7",
   "metadata": {},
   "outputs": [
    {
     "name": "stdout",
     "output_type": "stream",
     "text": [
      "Chatbot: Hello! I'm a simple chatbot. Type 'bye' to exit.\n"
     ]
    },
    {
     "name": "stdin",
     "output_type": "stream",
     "text": [
      "You:  i am fine and  you\n"
     ]
    },
    {
     "name": "stdout",
     "output_type": "stream",
     "text": [
      "Chatbot: I'm not sure how to respond to that.\n"
     ]
    },
    {
     "name": "stdin",
     "output_type": "stream",
     "text": [
      "You:  but why\n"
     ]
    },
    {
     "name": "stdout",
     "output_type": "stream",
     "text": [
      "Chatbot: Can you rephrase that?\n"
     ]
    },
    {
     "name": "stdin",
     "output_type": "stream",
     "text": [
      "You:  tell me about yourself\n"
     ]
    },
    {
     "name": "stdout",
     "output_type": "stream",
     "text": [
      "Chatbot: I'm not sure how to respond to that.\n"
     ]
    }
   ],
   "source": [
    "import random\n",
    "responses = {\n",
    "    \"hello\": [\"Hi there!\", \"Hello!\", \"Greetings!\", \"How can I help you?\"],\n",
    "    \"how are you?\": [\"I'm just a program, but thanks for asking!\", \"Doing well, how about you?\", \"I'm here to assist you!\"],\n",
    "    \"bye\": [\"Goodbye!\", \"See you later!\", \"Take care!\"],\n",
    "    \"default\": [\"I'm sorry, I don't understand that.\", \"Can you rephrase that?\", \"I'm not sure how to respond to that.\"]\n",
    "}\n",
    "def get_response(user_input):\n",
    "    # Normalize the input to lower case\n",
    "    user_input = user_input.lower()\n",
    "    # Return a random response from the list based on the user input\n",
    "    return random.choice(responses.get(user_input, responses[\"default\"]))\n",
    "def chatbot():\n",
    "    print(\"Chatbot: Hello! I'm a simple chatbot. Type 'bye' to exit.\")\n",
    "    while True:\n",
    "        user_input = input(\"You: \")\n",
    "        if user_input.lower() == \"bye\":\n",
    "            print(\"Chatbot: Goodbye!\")\n",
    "            break\n",
    "        response = get_response(user_input)\n",
    "        print(f\"Chatbot: {response}\")\n",
    "if __name__ == \"__main__\":\n",
    "    chatbot()"
   ]
  },
  {
   "cell_type": "code",
   "execution_count": null,
   "id": "1275317f-60a2-40cc-b189-d22229410bff",
   "metadata": {},
   "outputs": [],
   "source": []
  }
 ],
 "metadata": {
  "kernelspec": {
   "display_name": "Python 3 (ipykernel)",
   "language": "python",
   "name": "python3"
  },
  "language_info": {
   "codemirror_mode": {
    "name": "ipython",
    "version": 3
   },
   "file_extension": ".py",
   "mimetype": "text/x-python",
   "name": "python",
   "nbconvert_exporter": "python",
   "pygments_lexer": "ipython3",
   "version": "3.13.5"
  }
 },
 "nbformat": 4,
 "nbformat_minor": 5
}
