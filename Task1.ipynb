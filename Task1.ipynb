{
 "cells": [
  {
   "cell_type": "code",
   "execution_count": null,
   "id": "9fbdc844-2a8c-44a2-81be-034f71d24eac",
   "metadata": {},
   "outputs": [
    {
     "name": "stdout",
     "output_type": "stream",
     "text": [
      "🎯 Welcome to Hangman!\n",
      "_ _ _ _ _ _ \n"
     ]
    },
    {
     "name": "stdin",
     "output_type": "stream",
     "text": [
      "\n",
      "Guess a letter:  abhishek\n"
     ]
    },
    {
     "name": "stdout",
     "output_type": "stream",
     "text": [
      "❌ Please enter a single alphabet.\n"
     ]
    },
    {
     "name": "stdin",
     "output_type": "stream",
     "text": [
      "\n",
      "Guess a letter:  a\n"
     ]
    },
    {
     "name": "stdout",
     "output_type": "stream",
     "text": [
      "✅ Good guess!\n",
      "_ _ a _ _ _ \n"
     ]
    },
    {
     "name": "stdin",
     "output_type": "stream",
     "text": [
      "\n",
      "Guess a letter:  b\n"
     ]
    },
    {
     "name": "stdout",
     "output_type": "stream",
     "text": [
      "❌ Wrong guess! Tries left: 5\n",
      "_ _ a _ _ _ \n"
     ]
    },
    {
     "name": "stdin",
     "output_type": "stream",
     "text": [
      "\n",
      "Guess a letter:  b\n"
     ]
    },
    {
     "name": "stdout",
     "output_type": "stream",
     "text": [
      "⚠️ You already guessed that letter!\n"
     ]
    },
    {
     "name": "stdin",
     "output_type": "stream",
     "text": [
      "\n",
      "Guess a letter:  grf\n"
     ]
    },
    {
     "name": "stdout",
     "output_type": "stream",
     "text": [
      "❌ Please enter a single alphabet.\n"
     ]
    },
    {
     "name": "stdin",
     "output_type": "stream",
     "text": [
      "\n",
      "Guess a letter:  a\n"
     ]
    },
    {
     "name": "stdout",
     "output_type": "stream",
     "text": [
      "⚠️ You already guessed that letter!\n"
     ]
    },
    {
     "name": "stdin",
     "output_type": "stream",
     "text": [
      "\n",
      "Guess a letter:  v\n"
     ]
    },
    {
     "name": "stdout",
     "output_type": "stream",
     "text": [
      "❌ Wrong guess! Tries left: 4\n",
      "_ _ a _ _ _ \n"
     ]
    }
   ],
   "source": [
    "import random\n",
    "\n",
    "def hangman():\n",
    "    # Step 1: Word list\n",
    "    words = [\"apple\", \"banana\", \"grapes\", \"orange\", \"mango\"]\n",
    "    word = random.choice(words)  # Select a random word\n",
    "    guessed_letters = []         # Store guessed letters\n",
    "    tries = 6                    # Limit incorrect guesses\n",
    "\n",
    "    print(\"🎯 Welcome to Hangman!\")\n",
    "    print(\"_ \" * len(word))  # Show underscores initially\n",
    "\n",
    "    # Step 2: Game loop\n",
    "    while tries > 0:\n",
    "        guess = input(\"\\nGuess a letter: \").lower()\n",
    "\n",
    "        # Step 3: Input validation\n",
    "        if len(guess) != 1 or not guess.isalpha():\n",
    "            print(\"❌ Please enter a single alphabet.\")\n",
    "            continue\n",
    "\n",
    "        if guess in guessed_letters:\n",
    "            print(\"⚠️ You already guessed that letter!\")\n",
    "            continue\n",
    "\n",
    "        guessed_letters.append(guess)\n",
    "\n",
    "        # Step 4: Check guess\n",
    "        if guess in word:\n",
    "            print(\"✅ Good guess!\")\n",
    "        else:\n",
    "            tries -= 1\n",
    "            print(f\"❌ Wrong guess! Tries left: {tries}\")\n",
    "\n",
    "        # Step 5: Display word with guessed letters\n",
    "        display_word = \"\"\n",
    "        for letter in word:\n",
    "            if letter in guessed_letters:\n",
    "                display_word += letter + \" \"\n",
    "            else:\n",
    "                display_word += \"_ \"\n",
    "        print(display_word)\n",
    "\n",
    "        # Step 6: Check win condition\n",
    "        if \"_\" not in display_word:\n",
    "            print(\"🎉 Congratulations! You guessed the word:\", word)\n",
    "            break\n",
    "    else:\n",
    "        print(\"💀 Game Over! The word was:\", word)\n",
    "\n",
    "\n",
    "# Run the game\n",
    "hangman()\n"
   ]
  },
  {
   "cell_type": "code",
   "execution_count": null,
   "id": "369861d4-69ee-417c-821f-84c957531f44",
   "metadata": {},
   "outputs": [],
   "source": []
  }
 ],
 "metadata": {
  "kernelspec": {
   "display_name": "Python [conda env:base] *",
   "language": "python",
   "name": "conda-base-py"
  },
  "language_info": {
   "codemirror_mode": {
    "name": "ipython",
    "version": 3
   },
   "file_extension": ".py",
   "mimetype": "text/x-python",
   "name": "python",
   "nbconvert_exporter": "python",
   "pygments_lexer": "ipython3",
   "version": "3.13.5"
  }
 },
 "nbformat": 4,
 "nbformat_minor": 5
}
